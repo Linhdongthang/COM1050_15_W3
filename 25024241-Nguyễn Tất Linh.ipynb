{
 "cells": [
  {
   "cell_type": "markdown",
   "id": "eb86b290-dfba-459f-8e2f-85e18ce99f97",
   "metadata": {},
   "source": [
    "W2A3"
   ]
  },
  {
   "cell_type": "code",
   "execution_count": 22,
   "id": "98359b81-d95d-41f2-818c-b10a6c860d31",
   "metadata": {},
   "outputs": [
    {
     "name": "stdin",
     "output_type": "stream",
     "text": [
      " 8\n"
     ]
    },
    {
     "name": "stdout",
     "output_type": "stream",
     "text": [
      "YES\n"
     ]
    }
   ],
   "source": [
    "n = int(input())\n",
    "if n&(n-1) == 0 :\n",
    "    print(\"YES\")\n",
    "else :\n",
    "    print(\"NO\")"
   ]
  },
  {
   "cell_type": "markdown",
   "id": "c89a38ac-de02-4ffc-ad4a-3a2468ec7241",
   "metadata": {},
   "source": [
    "W2A4"
   ]
  },
  {
   "cell_type": "code",
   "execution_count": 4,
   "id": "ebda7fb4-9a14-4817-940f-748c38780a15",
   "metadata": {},
   "outputs": [
    {
     "name": "stdin",
     "output_type": "stream",
     "text": [
      " 8 3\n"
     ]
    },
    {
     "name": "stdout",
     "output_type": "stream",
     "text": [
      "2\n"
     ]
    }
   ],
   "source": [
    "m,n = map(int,input().split())\n",
    "m = m / n\n",
    "print (int(m))"
   ]
  },
  {
   "cell_type": "markdown",
   "id": "fbfd4758-b692-47ce-ad9f-1792c6dc5f59",
   "metadata": {},
   "source": [
    "W2A5"
   ]
  },
  {
   "cell_type": "code",
   "execution_count": 5,
   "id": "7d318d3a-260a-44b3-99ca-d5fd4c1f1e0d",
   "metadata": {},
   "outputs": [
    {
     "name": "stdin",
     "output_type": "stream",
     "text": [
      " 8 3\n"
     ]
    },
    {
     "name": "stdout",
     "output_type": "stream",
     "text": [
      "3\n"
     ]
    }
   ],
   "source": [
    "m,n = map(int,input().split())\n",
    "m = m / n\n",
    "print(int(m)+1)"
   ]
  },
  {
   "cell_type": "markdown",
   "id": "9682985b-aa1d-4131-8583-8279ae1660ad",
   "metadata": {},
   "source": [
    "W2A6"
   ]
  },
  {
   "cell_type": "code",
   "execution_count": 6,
   "id": "029bda62-8a19-4f1a-b6f2-622a1329853c",
   "metadata": {},
   "outputs": [
    {
     "name": "stdin",
     "output_type": "stream",
     "text": [
      " 8\n"
     ]
    },
    {
     "name": "stdout",
     "output_type": "stream",
     "text": [
      "Even\n"
     ]
    }
   ],
   "source": [
    "x = int(input())\n",
    "if x%2==0 :\n",
    "    print(\"Even\")\n",
    "else :\n",
    "    print(\"Odd\")"
   ]
  },
  {
   "cell_type": "markdown",
   "id": "09c04024-f6e6-47cb-aa5c-89aa22bd060a",
   "metadata": {},
   "source": [
    "W2A7"
   ]
  },
  {
   "cell_type": "code",
   "execution_count": 8,
   "id": "d3726ebc-23f6-4ddf-849b-9da569d3bfd7",
   "metadata": {},
   "outputs": [
    {
     "name": "stdin",
     "output_type": "stream",
     "text": [
      " -5 -7\n"
     ]
    },
    {
     "name": "stdout",
     "output_type": "stream",
     "text": [
      "Yes\n"
     ]
    }
   ],
   "source": [
    "a,b = map(int,input().split())\n",
    "if a<0 and b<0 :\n",
    "    print(\"Yes\")\n",
    "else :\n",
    "    print(\"No\")"
   ]
  },
  {
   "cell_type": "markdown",
   "id": "9fab817e-b8f2-4e42-8ccf-23cebc2bc3de",
   "metadata": {},
   "source": [
    "W2A8"
   ]
  },
  {
   "cell_type": "code",
   "execution_count": 11,
   "id": "174aad3c-b92e-4ab8-8a42-410dd8d65f4d",
   "metadata": {},
   "outputs": [
    {
     "name": "stdin",
     "output_type": "stream",
     "text": [
      " abcdef abc\n"
     ]
    },
    {
     "name": "stdout",
     "output_type": "stream",
     "text": [
      "True\n"
     ]
    }
   ],
   "source": [
    "a,b = map(str,input().split())\n",
    "if len(a) > len(b) :\n",
    "    print(\"True\")\n",
    "else :\n",
    "    print(\"False\")"
   ]
  },
  {
   "cell_type": "markdown",
   "id": "259d12f8-7730-44a7-a863-e7ea6de19b21",
   "metadata": {},
   "source": [
    "W2A9"
   ]
  },
  {
   "cell_type": "code",
   "execution_count": 12,
   "id": "4ff5f353-aea1-41a7-a8e2-e5603a992e05",
   "metadata": {},
   "outputs": [
    {
     "name": "stdin",
     "output_type": "stream",
     "text": [
      " 3 4 5\n"
     ]
    },
    {
     "name": "stdout",
     "output_type": "stream",
     "text": [
      "Yes\n"
     ]
    }
   ],
   "source": [
    "a,b,c = map(int,input().split())\n",
    "if a+b>c and b+c>a and c+a>b :\n",
    "    print(\"Yes\")\n",
    "else :\n",
    "    print(\"No\")"
   ]
  },
  {
   "cell_type": "markdown",
   "id": "e7d69c26-ccab-42d0-91d7-22656bd940f3",
   "metadata": {},
   "source": [
    "W2A10"
   ]
  },
  {
   "cell_type": "code",
   "execution_count": 13,
   "id": "f78e9846-0dec-485f-b10e-e2d106af80a5",
   "metadata": {},
   "outputs": [
    {
     "name": "stdin",
     "output_type": "stream",
     "text": [
      " 4 6 -8 0\n"
     ]
    },
    {
     "name": "stdout",
     "output_type": "stream",
     "text": [
      "6\n"
     ]
    }
   ],
   "source": [
    "a,b,c,d = map(int,input().split())\n",
    "print(max(a,max(b,max(c,d))))"
   ]
  },
  {
   "cell_type": "markdown",
   "id": "d379f65d-583b-4f71-82fc-465dd612ff4f",
   "metadata": {},
   "source": [
    "W2A11"
   ]
  },
  {
   "cell_type": "code",
   "execution_count": 14,
   "id": "f3662953-6133-48f4-b26c-d5250c1eb6a5",
   "metadata": {},
   "outputs": [
    {
     "name": "stdin",
     "output_type": "stream",
     "text": [
      " 3 4 5\n"
     ]
    },
    {
     "name": "stdout",
     "output_type": "stream",
     "text": [
      "Tam giác vuông\n"
     ]
    }
   ],
   "source": [
    "a,b,c = map(int,input().split())\n",
    "if a+b>c and b+c>a and c+a>b :\n",
    "    if a == b == c :\n",
    "        print(\"Tam giác đều\")\n",
    "    elif a==b or a==c or b==c :\n",
    "        print(\"Tam giác cân\")\n",
    "    elif a*a + b*b == c*c or b*b + c*c == a*a or c*c + a*a == b*b :\n",
    "        print(\"Tam giác vuông\")\n",
    "    else :\n",
    "        print(\"Tam giác thường\")\n",
    "else :\n",
    "    print(\"Không phải tam giác\")"
   ]
  },
  {
   "cell_type": "markdown",
   "id": "e83f1900-f121-468b-ab49-77c11f09e8b9",
   "metadata": {},
   "source": [
    "W2A12"
   ]
  },
  {
   "cell_type": "code",
   "execution_count": 15,
   "id": "23037be9-022b-40b5-a0a1-f961f75a06ac",
   "metadata": {},
   "outputs": [
    {
     "name": "stdin",
     "output_type": "stream",
     "text": [
      " 2000\n"
     ]
    },
    {
     "name": "stdout",
     "output_type": "stream",
     "text": [
      "Yes\n"
     ]
    }
   ],
   "source": [
    "n = int(input())\n",
    "if (n%400==0) or (n%4==0 and n%100!=0):\n",
    "    print(\"Yes\")\n",
    "else :\n",
    "    print(\"No\")"
   ]
  },
  {
   "cell_type": "markdown",
   "id": "2db4f7e5-aaa7-495f-b3dc-3c204c436e29",
   "metadata": {},
   "source": [
    "W2A14"
   ]
  },
  {
   "cell_type": "code",
   "execution_count": 16,
   "id": "13a762f8-8a15-4ae6-8b27-e86fc58286cd",
   "metadata": {},
   "outputs": [
    {
     "name": "stdin",
     "output_type": "stream",
     "text": [
      " 4 5\n"
     ]
    },
    {
     "name": "stdout",
     "output_type": "stream",
     "text": [
      "-1.25\n"
     ]
    }
   ],
   "source": [
    "a,b = map(float,input().split())\n",
    "if a==0 :\n",
    "    if b!=0 :\n",
    "        print(\"Vô nghiệm\")\n",
    "    else :\n",
    "        print(\"Vô số nghiệm\")\n",
    "else :\n",
    "    print(f\"{-b/a:.2f}\")"
   ]
  },
  {
   "cell_type": "markdown",
   "id": "b298670f-1dcc-4640-aa21-369b558468bf",
   "metadata": {},
   "source": [
    "W2A15"
   ]
  },
  {
   "cell_type": "code",
   "execution_count": 17,
   "id": "18f5a061-b4a5-4e9b-b4f0-e2b7b24da843",
   "metadata": {},
   "outputs": [
    {
     "name": "stdin",
     "output_type": "stream",
     "text": [
      " 8.5\n"
     ]
    },
    {
     "name": "stdout",
     "output_type": "stream",
     "text": [
      "Giỏi\n"
     ]
    }
   ],
   "source": [
    "n = float(input())\n",
    "if n>10 or n<0 :\n",
    "    print(\"Không hợp lệ\")\n",
    "elif n>=8.0 :\n",
    "    print(\"Giỏi\")\n",
    "elif n>=6.5 :\n",
    "    print(\"Khá\")\n",
    "elif n>=5. :\n",
    "    print(\"Trung bình\")\n",
    "else :\n",
    "    print(\"Yếu\")"
   ]
  },
  {
   "cell_type": "markdown",
   "id": "7ebcc97c-0ff4-49e3-8371-6c4d2fc08588",
   "metadata": {},
   "source": [
    "W2A16"
   ]
  },
  {
   "cell_type": "code",
   "execution_count": 19,
   "id": "5e3c66a3-7e58-4816-b50d-4999cf79713a",
   "metadata": {},
   "outputs": [
    {
     "name": "stdin",
     "output_type": "stream",
     "text": [
      " 2.9\n"
     ]
    },
    {
     "name": "stdout",
     "output_type": "stream",
     "text": [
      "3 2 3\n"
     ]
    }
   ],
   "source": [
    "n = float(input())\n",
    "x = int(n) + 1\n",
    "y = int(n)\n",
    "if x-n >= n-y :\n",
    "    z = y\n",
    "else :\n",
    "    z = x\n",
    "print(x,y,z)"
   ]
  },
  {
   "cell_type": "markdown",
   "id": "37cfad19-5efa-4a92-ad16-4b16223b3775",
   "metadata": {},
   "source": [
    "W2A17"
   ]
  },
  {
   "cell_type": "code",
   "execution_count": 20,
   "id": "69eecf18-fe40-4c42-b18a-2bb7240f2e80",
   "metadata": {},
   "outputs": [
    {
     "name": "stdin",
     "output_type": "stream",
     "text": [
      " 1 2 4 8\n"
     ]
    },
    {
     "name": "stdout",
     "output_type": "stream",
     "text": [
      "Đúng\n"
     ]
    }
   ],
   "source": [
    "a,b,c,d = map(float,input().split())\n",
    "if b%a!=0 :\n",
    "    print(\"Sai\")\n",
    "else :\n",
    "    m = b/a\n",
    "    if b*m!=c :\n",
    "        print(\"Sai\")\n",
    "    else :\n",
    "        if c*m!=d :\n",
    "            print(\"Sai\")\n",
    "        else :\n",
    "            print(\"Đúng\")"
   ]
  }
 ],
 "metadata": {
  "kernelspec": {
   "display_name": "Python [conda env:base] *",
   "language": "python",
   "name": "conda-base-py"
  },
  "language_info": {
   "codemirror_mode": {
    "name": "ipython",
    "version": 3
   },
   "file_extension": ".py",
   "mimetype": "text/x-python",
   "name": "python",
   "nbconvert_exporter": "python",
   "pygments_lexer": "ipython3",
   "version": "3.13.5"
  }
 },
 "nbformat": 4,
 "nbformat_minor": 5
}
